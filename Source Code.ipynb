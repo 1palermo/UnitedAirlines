{
  "nbformat": 4,
  "nbformat_minor": 0,
  "metadata": {
    "colab": {
      "provenance": []
    },
    "kernelspec": {
      "name": "python3",
      "display_name": "Python 3"
    },
    "language_info": {
      "name": "python"
    }
  },
  "cells": [
    {
      "cell_type": "markdown",
      "source": [
        "Cleaning of the data- Identifying similar reasons"
      ],
      "metadata": {
        "id": "d0N-qQtVH0gB"
      }
    },
    {
      "cell_type": "markdown",
      "source": [
        "Load and Preprocess the Data"
      ],
      "metadata": {
        "id": "zrJT-PTmTs5Z"
      }
    },
    {
      "cell_type": "code",
      "execution_count": 2,
      "metadata": {
        "colab": {
          "base_uri": "https://localhost:8080/"
        },
        "id": "HMndJ2JDFGuK",
        "outputId": "486e3809-3488-41f8-e3e9-ac352a579750"
      },
      "outputs": [
        {
          "output_type": "stream",
          "name": "stdout",
          "text": [
            "['Voluntary Cancel' 'Booking' 'IRROPS' 'Upgrade' 'Seating' 'Mileage Plus'\n",
            " 'Checkout' 'Voluntary Change' 'Post Flight' 'Check In' 'Other Topics'\n",
            " 'Communications' 'Schedule Change' 'Products and Services'\n",
            " 'Digital Support' 'Disability' 'Unaccompanied Minor' 'Baggage'\n",
            " 'Traveler Updates' 'ETC' 'Post-Flight']\n"
          ]
        }
      ],
      "source": [
        "import pandas as pd\n",
        "import numpy as np\n",
        "import pandas as pd\n",
        "\n",
        "# Read the Excel file (adjust the file path and sheet name as necessary)\n",
        "df = pd.read_csv('reason.csv')\n",
        "\n",
        "# Display the unique values\n",
        "# distinct_values=distinct_values\n",
        "df['primary_call_reason'] = df['primary_call_reason'].str.strip()\n",
        "# standardize the dataset\n",
        "df['primary_call_reason'] = df['primary_call_reason'].replace({\n",
        "    'Voluntary   Change': 'Voluntary Change',\n",
        "    'Voluntary  Change': 'Voluntary Change',\n",
        "    'Check-In': 'Check In',\n",
        "    'Check-In': 'Check In',\n",
        "    'Other  Topics': 'Other Topics',\n",
        "    'Traveler   Updates': 'Traveler Updates',\n",
        "    'Traveler  Updates': 'Traveler Updates',\n",
        "    'Mileage   Plus':'Mileage Plus',\n",
        "    'Mileage  Plus':'Mileage Plus',\n",
        "    'Digital  Support': 'Digital Support',\n",
        "    'Digital   Support': 'Digital Support',\n",
        "    'Voluntary  Cancel':'Voluntary Cancel',\n",
        "    'Products & Services':'Products and Services',\n",
        "\n",
        "    # Add other similar corrections if needed\n",
        "})\n",
        "print(df['primary_call_reason'].unique())\n"
      ]
    },
    {
      "cell_type": "markdown",
      "source": [],
      "metadata": {
        "id": "0Xx8wbMNHzUq"
      }
    },
    {
      "cell_type": "markdown",
      "source": [],
      "metadata": {
        "id": "hXWJ0YJUHvi6"
      }
    },
    {
      "cell_type": "markdown",
      "source": [
        "# New section"
      ],
      "metadata": {
        "id": "tqeX3dmPIzJD"
      }
    },
    {
      "cell_type": "markdown",
      "source": [
        "Prediction of Reason using Logistic Regression"
      ],
      "metadata": {
        "id": "RwOBFXePZC_a"
      }
    },
    {
      "cell_type": "code",
      "source": [
        "import pandas as pd\n",
        "from sklearn.model_selection import train_test_split\n",
        "from sklearn.feature_extraction.text import CountVectorizer\n",
        "from sklearn.linear_model import LogisticRegression\n",
        "from sklearn.preprocessing import LabelEncoder\n",
        "from sklearn.metrics import classification_report\n",
        "\n",
        "# Step 1: Load the CSV files (replace with actual file paths)\n",
        "calls_df = pd.read_csv('calls.csv')  # Call transcript data\n",
        "reasons_df = pd.read_csv('reason.csv')  # Call reasons\n",
        "\n",
        "# Step 2: Merge the two DataFrames on 'call_id'\n",
        "df = pd.merge(calls_df, reasons_df, on='call_id')\n",
        "\n",
        "# Step 3: Clean the 'primary_call_reason' column (remove extra spaces if any)\n",
        "df['primary_call_reason'] = df['primary_call_reason'].str.strip()\n",
        "# standardize the dataset\n",
        "df['primary_call_reason'] = df['primary_call_reason'].replace({\n",
        "    'Voluntary   Change': 'Voluntary Change',\n",
        "    'Voluntary  Change': 'Voluntary Change',\n",
        "    'Check-In': 'Check In',\n",
        "    'Check-In': 'Check In',\n",
        "    'Other  Topics': 'Other Topics',\n",
        "    'Traveler   Updates': 'Traveler Updates',\n",
        "    'Traveler  Updates': 'Traveler Updates',\n",
        "    'Mileage   Plus':'Mileage Plus',\n",
        "    'Mileage  Plus':'Mileage Plus',\n",
        "    'Digital  Support': 'Digital Support',\n",
        "    'Digital   Support': 'Digital Support',\n",
        "    'Voluntary  Cancel':'Voluntary Cancel',\n",
        "    'Products & Services':'Products and Services',\n",
        "\n",
        "\n",
        "})\n",
        "# Drop rows with missing values in 'call_transcript'\n",
        "df = df.dropna(subset=['call_transcript'])\n",
        "\n",
        "# Proceed with splitting data and Bag of Words transformation\n",
        "X = df['call_transcript']\n",
        "y = df['primary_call_reason']\n",
        "\n",
        "X_train, X_test, y_train, y_test = train_test_split(X, y, test_size=0.2, random_state=42)\n",
        "\n",
        "# Convert text data into Bag of Words (BoW) features\n",
        "vectorizer = CountVectorizer(max_features=5000, stop_words='english')\n",
        "X_train_bow = vectorizer.fit_transform(X_train)\n",
        "X_test_bow = vectorizer.transform(X_test)\n",
        "# print(X_test_bow.shape)\n",
        "\n",
        "# Step 7: Encode the labels (convert string labels to numerical form)\n",
        "label_encoder = LabelEncoder()\n",
        "y_train_encoded = label_encoder.fit_transform(y_train)\n",
        "y_test_encoded = label_encoder.transform(y_test)\n",
        "\n",
        "# Step 8: Train a Logistic Regression model\n",
        "model = LogisticRegression(max_iter=1000, class_weight='balanced')  # Using class_weight to handle imbalanced data\n",
        "model.fit(X_train_bow, y_train_encoded)\n",
        "\n",
        "# Step 9: Make predictions on the test data\n",
        "y_pred = model.predict(X_test_bow)\n",
        "\n",
        "# Step 10: Convert the predicted labels back to their original form\n",
        "y_pred_labels = label_encoder.inverse_transform(y_pred)\n",
        "\n",
        "# Step 11: Evaluate the model's performance\n",
        "print(\"Classification Report:\")\n",
        "print(classification_report(y_test, y_pred_labels))"
      ],
      "metadata": {
        "colab": {
          "base_uri": "https://localhost:8080/"
        },
        "id": "qqWd0q0YaJXa",
        "outputId": "593b0804-2b8a-408a-b276-3d09c7a4b1bc"
      },
      "execution_count": null,
      "outputs": [
        {
          "output_type": "stream",
          "name": "stdout",
          "text": [
            "Classification Report:\n",
            "                       precision    recall  f1-score   support\n",
            "\n",
            "              Baggage       0.03      0.04      0.03        55\n",
            "              Booking       0.01      0.02      0.02        54\n",
            "             Check In       0.03      0.05      0.04        42\n",
            "             Checkout       0.05      0.07      0.06        42\n",
            "       Communications       0.07      0.10      0.08        71\n",
            "      Digital Support       0.03      0.03      0.03        29\n",
            "           Disability       0.00      0.00      0.00         8\n",
            "                  ETC       0.00      0.00      0.00        18\n",
            "               IRROPS       0.30      0.22      0.25       339\n",
            "         Mileage Plus       0.07      0.08      0.07       140\n",
            "         Other Topics       0.00      0.00      0.00        24\n",
            "          Post Flight       0.05      0.05      0.05        42\n",
            "          Post-Flight       0.03      0.03      0.03        69\n",
            "Products and Services       0.08      0.11      0.09        74\n",
            "      Schedule Change       0.04      0.08      0.06        13\n",
            "              Seating       0.11      0.10      0.10       166\n",
            "     Traveler Updates       0.00      0.00      0.00        21\n",
            "  Unaccompanied Minor       0.00      0.00      0.00         3\n",
            "              Upgrade       0.05      0.07      0.06        58\n",
            "     Voluntary Cancel       0.00      0.00      0.00        33\n",
            "     Voluntary Change       0.19      0.13      0.16       264\n",
            "\n",
            "             accuracy                           0.11      1565\n",
            "            macro avg       0.05      0.06      0.05      1565\n",
            "         weighted avg       0.13      0.11      0.12      1565\n",
            "\n"
          ]
        },
        {
          "output_type": "stream",
          "name": "stderr",
          "text": [
            "/usr/local/lib/python3.10/dist-packages/sklearn/linear_model/_logistic.py:469: ConvergenceWarning: lbfgs failed to converge (status=1):\n",
            "STOP: TOTAL NO. of ITERATIONS REACHED LIMIT.\n",
            "\n",
            "Increase the number of iterations (max_iter) or scale the data as shown in:\n",
            "    https://scikit-learn.org/stable/modules/preprocessing.html\n",
            "Please also refer to the documentation for alternative solver options:\n",
            "    https://scikit-learn.org/stable/modules/linear_model.html#logistic-regression\n",
            "  n_iter_i = _check_optimize_result(\n",
            "/usr/local/lib/python3.10/dist-packages/sklearn/metrics/_classification.py:1531: UndefinedMetricWarning: Precision is ill-defined and being set to 0.0 in labels with no predicted samples. Use `zero_division` parameter to control this behavior.\n",
            "  _warn_prf(average, modifier, f\"{metric.capitalize()} is\", len(result))\n",
            "/usr/local/lib/python3.10/dist-packages/sklearn/metrics/_classification.py:1531: UndefinedMetricWarning: Precision is ill-defined and being set to 0.0 in labels with no predicted samples. Use `zero_division` parameter to control this behavior.\n",
            "  _warn_prf(average, modifier, f\"{metric.capitalize()} is\", len(result))\n",
            "/usr/local/lib/python3.10/dist-packages/sklearn/metrics/_classification.py:1531: UndefinedMetricWarning: Precision is ill-defined and being set to 0.0 in labels with no predicted samples. Use `zero_division` parameter to control this behavior.\n",
            "  _warn_prf(average, modifier, f\"{metric.capitalize()} is\", len(result))\n"
          ]
        }
      ]
    },
    {
      "cell_type": "markdown",
      "source": [
        "Prediction Of Reason using TF-IDF Technique"
      ],
      "metadata": {
        "id": "hagPpHqZZQhd"
      }
    },
    {
      "cell_type": "code",
      "source": [
        "from sklearn.feature_extraction.text import TfidfVectorizer\n",
        "import pandas as pd\n",
        "from sklearn.model_selection import train_test_split\n",
        "from sklearn.feature_extraction.text import CountVectorizer\n",
        "from sklearn.linear_model import LogisticRegression\n",
        "from sklearn.preprocessing import LabelEncoder\n",
        "from sklearn.metrics import classification_report\n",
        "\n",
        "# Step 1: Load the CSV files (replace with actual file paths)\n",
        "calls_df = pd.read_csv('calls.csv')  # Call transcript data\n",
        "reasons_df = pd.read_csv('reason.csv')  # Call reasons\n",
        "\n",
        "# Step 2: Merge the two DataFrames on 'call_id'\n",
        "df = pd.merge(calls_df, reasons_df, on='call_id')\n",
        "\n",
        "# Step 3: Clean the 'primary_call_reason' column (remove extra spaces if any)\n",
        "df['primary_call_reason'] = df['primary_call_reason'].str.strip()\n",
        "# standardize the dataset\n",
        "df['primary_call_reason'] = df['primary_call_reason'].replace({\n",
        "    'Voluntary   Change': 'Voluntary Change',\n",
        "    'Voluntary  Change': 'Voluntary Change',\n",
        "    'Check-In': 'Check In',\n",
        "    'Check-In': 'Check In',\n",
        "    'Other  Topics': 'Other Topics',\n",
        "    'Traveler   Updates': 'Traveler Updates',\n",
        "    'Traveler  Updates': 'Traveler Updates',\n",
        "    'Mileage   Plus':'Mileage Plus',\n",
        "    'Mileage  Plus':'Mileage Plus',\n",
        "    'Digital  Support': 'Digital Support',\n",
        "    'Digital   Support': 'Digital Support',\n",
        "    'Voluntary  Cancel':'Voluntary Cancel',\n",
        "    'Products & Services':'Products and Services',\n",
        "    'Post-Flight':'Post Flight',\n",
        "\n",
        "})\n",
        "# Drop rows with missing values in 'call_transcript'\n",
        "df = df.dropna(subset=['call_transcript'])\n",
        "\n",
        "# Proceed with splitting data and Bag of Words transformation\n",
        "X = df['call_transcript']\n",
        "y = df['primary_call_reason']\n",
        "\n",
        "X_train, X_test, y_train, y_test = train_test_split(X, y, test_size=0.2, random_state=42)\n",
        "\n",
        "# Convert text data into TF-IDF features\n",
        "tfidf_vectorizer = TfidfVectorizer(max_features=5000, stop_words='english')\n",
        "X_train_tfidf = tfidf_vectorizer.fit_transform(X_train)\n",
        "X_test_tfidf = tfidf_vectorizer.transform(X_test)\n",
        "\n",
        "# Use the same model (Logistic Regression)\n",
        "model = LogisticRegression(max_iter=1000, class_weight='balanced')\n",
        "model.fit(X_train_tfidf, y_train_encoded)\n",
        "\n",
        "# Predict and evaluate\n",
        "y_pred_tfidf = model.predict(X_test_tfidf)\n",
        "y_pred_labels_tfidf = label_encoder.inverse_transform(y_pred_tfidf)\n",
        "print(\"Classification Report with TF-IDF:\")\n",
        "print(classification_report(y_test, y_pred_labels_tfidf))"
      ],
      "metadata": {
        "colab": {
          "base_uri": "https://localhost:8080/"
        },
        "id": "OCm1JnNBizFi",
        "outputId": "51171ae9-e428-4949-a569-15d2c27cfe6b"
      },
      "execution_count": null,
      "outputs": [
        {
          "output_type": "stream",
          "name": "stdout",
          "text": [
            "Classification Report with TF-IDF:\n",
            "                       precision    recall  f1-score   support\n",
            "\n",
            "              Baggage       0.02      0.04      0.03        55\n",
            "              Booking       0.04      0.06      0.05        54\n",
            "             Check In       0.01      0.02      0.01        42\n",
            "             Checkout       0.01      0.02      0.02        42\n",
            "       Communications       0.09      0.06      0.07        71\n",
            "      Digital Support       0.04      0.14      0.07        29\n",
            "           Disability       0.00      0.00      0.00         8\n",
            "                  ETC       0.00      0.00      0.00        18\n",
            "               IRROPS       0.28      0.04      0.07       339\n",
            "         Mileage Plus       0.07      0.03      0.04       140\n",
            "         Other Topics       0.03      0.12      0.05        24\n",
            "          Post Flight       0.09      0.08      0.09       111\n",
            "          Post-Flight       0.00      0.00      0.00         0\n",
            "Products and Services       0.07      0.08      0.07        74\n",
            "      Schedule Change       0.01      0.08      0.02        13\n",
            "              Seating       0.11      0.04      0.06       166\n",
            "     Traveler Updates       0.00      0.00      0.00        21\n",
            "  Unaccompanied Minor       0.00      0.00      0.00         3\n",
            "              Upgrade       0.04      0.05      0.04        58\n",
            "     Voluntary Cancel       0.00      0.00      0.00        33\n",
            "     Voluntary Change       0.27      0.04      0.07       264\n",
            "\n",
            "             accuracy                           0.05      1565\n",
            "            macro avg       0.06      0.04      0.04      1565\n",
            "         weighted avg       0.14      0.05      0.06      1565\n",
            "\n"
          ]
        },
        {
          "output_type": "stream",
          "name": "stderr",
          "text": [
            "/usr/local/lib/python3.10/dist-packages/sklearn/metrics/_classification.py:1531: UndefinedMetricWarning: Recall is ill-defined and being set to 0.0 in labels with no true samples. Use `zero_division` parameter to control this behavior.\n",
            "  _warn_prf(average, modifier, f\"{metric.capitalize()} is\", len(result))\n",
            "/usr/local/lib/python3.10/dist-packages/sklearn/metrics/_classification.py:1531: UndefinedMetricWarning: Recall is ill-defined and being set to 0.0 in labels with no true samples. Use `zero_division` parameter to control this behavior.\n",
            "  _warn_prf(average, modifier, f\"{metric.capitalize()} is\", len(result))\n",
            "/usr/local/lib/python3.10/dist-packages/sklearn/metrics/_classification.py:1531: UndefinedMetricWarning: Recall is ill-defined and being set to 0.0 in labels with no true samples. Use `zero_division` parameter to control this behavior.\n",
            "  _warn_prf(average, modifier, f\"{metric.capitalize()} is\", len(result))\n"
          ]
        }
      ]
    },
    {
      "cell_type": "markdown",
      "source": [
        "Prediction of reason using Random Forest"
      ],
      "metadata": {
        "id": "ZR4fRuTuZfG4"
      }
    },
    {
      "cell_type": "code",
      "source": [
        "from sklearn.ensemble import RandomForestClassifier\n",
        "\n",
        "import pandas as pd\n",
        "from sklearn.model_selection import train_test_split\n",
        "from sklearn.preprocessing import LabelEncoder\n",
        "from sklearn.metrics import classification_report\n",
        "\n",
        "# Step 1: Load the CSV files (replace with actual file paths)\n",
        "calls_df = pd.read_csv('calls.csv')  # Call transcript data\n",
        "reasons_df = pd.read_csv('reason.csv')  # Call reasons\n",
        "\n",
        "# Step 2: Merge the two DataFrames on 'call_id'\n",
        "df = pd.merge(calls_df, reasons_df, on='call_id')\n",
        "\n",
        "# Step 3: Clean the 'primary_call_reason' column (remove extra spaces if any)\n",
        "df['primary_call_reason'] = df['primary_call_reason'].str.strip()\n",
        "# standardize the dataset\n",
        "df['primary_call_reason'] = df['primary_call_reason'].replace({\n",
        "    'Voluntary   Change': 'Voluntary Change',\n",
        "    'Voluntary  Change': 'Voluntary Change',\n",
        "    'Check-In': 'Check In',\n",
        "    'Check-In': 'Check In',\n",
        "    'Other  Topics': 'Other Topics',\n",
        "    'Traveler   Updates': 'Traveler Updates',\n",
        "    'Traveler  Updates': 'Traveler Updates',\n",
        "    'Mileage   Plus':'Mileage Plus',\n",
        "    'Mileage  Plus':'Mileage Plus',\n",
        "    'Digital  Support': 'Digital Support',\n",
        "    'Digital   Support': 'Digital Support',\n",
        "    'Voluntary  Cancel':'Voluntary Cancel',\n",
        "    'Products & Services':'Products and Services',\n",
        "    'Post-Flight':'Post Flight',\n",
        "\n",
        "})\n",
        "# Drop rows with missing values in 'call_transcript'\n",
        "df = df.dropna(subset=['call_transcript'])\n",
        "\n",
        "\n",
        "X = df['call_transcript']\n",
        "y = df['primary_call_reason']\n",
        "\n",
        "X_train, X_test, y_train, y_test = train_test_split(X, y, test_size=0.2, random_state=42)\n",
        "# Train a Random Forest model\n",
        "rf_model = RandomForestClassifier(n_estimators=100, class_weight='balanced', random_state=42)\n",
        "rf_model.fit(X_train_tfidf, y_train_encoded)\n",
        "\n",
        "# Predict and evaluate\n",
        "y_pred_rf = rf_model.predict(X_test_tfidf)\n",
        "y_pred_labels_rf = label_encoder.inverse_transform(y_pred_rf)\n",
        "print(\"Classification Report with Random Forest:\")\n",
        "print(classification_report(y_test, y_pred_labels_rf))\n"
      ],
      "metadata": {
        "colab": {
          "base_uri": "https://localhost:8080/"
        },
        "id": "jPcVSK79gpQm",
        "outputId": "090f8fa8-ee8d-403e-8444-b230d587d640"
      },
      "execution_count": null,
      "outputs": [
        {
          "output_type": "stream",
          "name": "stdout",
          "text": [
            "Classification Report with Random Forest:\n",
            "                       precision    recall  f1-score   support\n",
            "\n",
            "              Baggage       0.00      0.00      0.00        55\n",
            "              Booking       0.00      0.00      0.00        54\n",
            "             Check In       0.00      0.00      0.00        42\n",
            "             Checkout       0.00      0.00      0.00        42\n",
            "       Communications       0.00      0.00      0.00        71\n",
            "      Digital Support       0.00      0.00      0.00        29\n",
            "           Disability       0.00      0.00      0.00         8\n",
            "                  ETC       0.00      0.00      0.00        18\n",
            "               IRROPS       0.22      0.79      0.35       339\n",
            "         Mileage Plus       0.20      0.01      0.01       140\n",
            "         Other Topics       0.00      0.00      0.00        24\n",
            "          Post Flight       0.00      0.00      0.00       111\n",
            "Products and Services       0.00      0.00      0.00        74\n",
            "      Schedule Change       0.00      0.00      0.00        13\n",
            "              Seating       0.12      0.01      0.01       166\n",
            "     Traveler Updates       0.00      0.00      0.00        21\n",
            "  Unaccompanied Minor       0.00      0.00      0.00         3\n",
            "              Upgrade       0.00      0.00      0.00        58\n",
            "     Voluntary Cancel       0.00      0.00      0.00        33\n",
            "     Voluntary Change       0.14      0.18      0.16       264\n",
            "\n",
            "             accuracy                           0.20      1565\n",
            "            macro avg       0.03      0.05      0.03      1565\n",
            "         weighted avg       0.10      0.20      0.10      1565\n",
            "\n"
          ]
        },
        {
          "output_type": "stream",
          "name": "stderr",
          "text": [
            "/usr/local/lib/python3.10/dist-packages/sklearn/metrics/_classification.py:1531: UndefinedMetricWarning: Precision is ill-defined and being set to 0.0 in labels with no predicted samples. Use `zero_division` parameter to control this behavior.\n",
            "  _warn_prf(average, modifier, f\"{metric.capitalize()} is\", len(result))\n",
            "/usr/local/lib/python3.10/dist-packages/sklearn/metrics/_classification.py:1531: UndefinedMetricWarning: Precision is ill-defined and being set to 0.0 in labels with no predicted samples. Use `zero_division` parameter to control this behavior.\n",
            "  _warn_prf(average, modifier, f\"{metric.capitalize()} is\", len(result))\n",
            "/usr/local/lib/python3.10/dist-packages/sklearn/metrics/_classification.py:1531: UndefinedMetricWarning: Precision is ill-defined and being set to 0.0 in labels with no predicted samples. Use `zero_division` parameter to control this behavior.\n",
            "  _warn_prf(average, modifier, f\"{metric.capitalize()} is\", len(result))\n"
          ]
        }
      ]
    },
    {
      "cell_type": "markdown",
      "source": [
        "Prediction of reason using Neural Nets"
      ],
      "metadata": {
        "id": "GdD3eFihZw9f"
      }
    },
    {
      "cell_type": "code",
      "source": [
        "import pandas as pd\n",
        "import numpy as np\n",
        "from sklearn.model_selection import train_test_split\n",
        "from sklearn.preprocessing import LabelEncoder\n",
        "from tensorflow.keras.preprocessing.text import Tokenizer\n",
        "from tensorflow.keras.preprocessing.sequence import pad_sequences\n",
        "from tensorflow.keras.models import Sequential\n",
        "from tensorflow.keras.layers import Embedding, LSTM, Dense, Dropout, SpatialDropout1D\n",
        "from sklearn.metrics import classification_report\n",
        "\n",
        "# Step 1: Load the CSV files (replace with actual file paths)\n",
        "calls_df = pd.read_csv('calls.csv')  # Call transcript data\n",
        "reasons_df = pd.read_csv('reason.csv')  # Call reasons\n",
        "\n",
        "# Step 2: Merge the two DataFrames on 'call_id'\n",
        "df = pd.merge(calls_df, reasons_df, on='call_id')\n",
        "\n",
        "# Step 3: Clean and standardize the 'primary_call_reason' column\n",
        "df['primary_call_reason'] = df['primary_call_reason'].str.strip()\n",
        "# standardize the dataset\n",
        "df['primary_call_reason'] = df['primary_call_reason'].replace({\n",
        "    'Voluntary   Change': 'Voluntary Change',\n",
        "    'Voluntary  Change': 'Voluntary Change',\n",
        "    'Check-In': 'Check In',\n",
        "    'Check-In': 'Check In',\n",
        "    'Other  Topics': 'Other Topics',\n",
        "    'Traveler   Updates': 'Traveler Updates',\n",
        "    'Traveler  Updates': 'Traveler Updates',\n",
        "    'Mileage   Plus':'Mileage Plus',\n",
        "    'Mileage  Plus':'Mileage Plus',\n",
        "    'Digital  Support': 'Digital Support',\n",
        "    'Digital   Support': 'Digital Support',\n",
        "    'Voluntary  Cancel':'Voluntary Cancel',\n",
        "    'Products & Services':'Products and Services',\n",
        "    'Post-Flight':'Post Flight',\n",
        "\n",
        "})\n",
        "\n",
        "# Drop rows with missing transcripts\n",
        "df = df.dropna(subset=['call_transcript'])\n",
        "\n",
        "# Step 4: Split the data into features (X) and labels (y)\n",
        "X = df['call_transcript']\n",
        "y = df['primary_call_reason']\n",
        "\n",
        "# Step 5: Encode the labels into integers\n",
        "label_encoder = LabelEncoder()\n",
        "y_encoded = label_encoder.fit_transform(y)\n",
        "\n",
        "# Step 6: Tokenize the text (convert text to sequences of integers)\n",
        "tokenizer = Tokenizer(num_words=5000, lower=True, oov_token=\"<OOV>\")\n",
        "tokenizer.fit_on_texts(X)\n",
        "X_sequences = tokenizer.texts_to_sequences(X)\n",
        "\n",
        "# Step 7: Pad the sequences to ensure all are of the same length\n",
        "X_padded = pad_sequences(X_sequences, maxlen=200)  # Adjust 'maxlen' based on transcript length\n",
        "\n",
        "# Step 8: Split the data into training and test sets\n",
        "X_train, X_test, y_train, y_test = train_test_split(X_padded, y_encoded, test_size=0.2, random_state=42)\n",
        "\n",
        "# Step 9: Build the LSTM model\n",
        "model = Sequential()\n",
        "\n",
        "# Embedding layer to learn word representations\n",
        "model.add(Embedding(input_dim=5000, output_dim=128, input_length=X_train.shape[1]))\n",
        "\n",
        "# LSTM layer with dropout\n",
        "model.add(SpatialDropout1D(0.2))\n",
        "model.add(LSTM(128, dropout=0.2, recurrent_dropout=0.2))\n",
        "\n",
        "# Fully connected layer\n",
        "model.add(Dense(128, activation='relu'))\n",
        "model.add(Dropout(0.2))\n",
        "\n",
        "# Output layer with softmax for multiclass classification\n",
        "model.add(Dense(len(np.unique(y_train)), activation='softmax'))\n",
        "\n",
        "# Step 10: Compile the model\n",
        "model.compile(loss='sparse_categorical_crossentropy', optimizer='adam', metrics=['accuracy'])\n",
        "\n",
        "# Step 11: Train the model\n",
        "history = model.fit(X_train, y_train, epochs=5, batch_size=64, validation_data=(X_test, y_test), verbose=1)\n",
        "\n",
        "# Step 12: Evaluate the model\n",
        "y_pred = np.argmax(model.predict(X_test), axis=-1)\n",
        "\n",
        "# Convert predictions back to labels\n",
        "y_pred_labels = label_encoder.inverse_transform(y_pred)\n",
        "\n",
        "# Print classification report\n",
        "print(\"Classification Report:\")\n",
        "print(classification_report(y_test, y_pred_labels))\n"
      ],
      "metadata": {
        "colab": {
          "base_uri": "https://localhost:8080/"
        },
        "id": "kJ1t9Mjpsq7U",
        "outputId": "aa9e27b6-9ee4-4afe-a805-31296a7303ae"
      },
      "execution_count": null,
      "outputs": [
        {
          "output_type": "stream",
          "name": "stderr",
          "text": [
            "/usr/local/lib/python3.10/dist-packages/keras/src/layers/core/embedding.py:90: UserWarning: Argument `input_length` is deprecated. Just remove it.\n",
            "  warnings.warn(\n"
          ]
        },
        {
          "output_type": "stream",
          "name": "stdout",
          "text": [
            "Epoch 1/5\n",
            "\u001b[1m543/834\u001b[0m \u001b[32m━━━━━━━━━━━━━\u001b[0m\u001b[37m━━━━━━━\u001b[0m \u001b[1m3:05\u001b[0m 636ms/step - accuracy: 0.1830 - loss: 2.6453"
          ]
        }
      ]
    },
    {
      "cell_type": "code",
      "source": [
        "y_test_labels = label_encoder.inverse_transform(y_test)\n",
        "\n",
        "# Now you can generate the classification report\n",
        "print(\"Classification Report:\")\n",
        "print(classification_report(y_test_labels, y_pred_labels))"
      ],
      "metadata": {
        "colab": {
          "base_uri": "https://localhost:8080/"
        },
        "id": "ziXEXI7tu5Oc",
        "outputId": "fa76fd2e-5d62-45c3-f7ff-af8a00831b59"
      },
      "execution_count": null,
      "outputs": [
        {
          "output_type": "stream",
          "name": "stdout",
          "text": [
            "Classification Report:\n",
            "                       precision    recall  f1-score   support\n",
            "\n",
            "              Baggage       0.00      0.00      0.00        55\n",
            "              Booking       0.00      0.00      0.00        54\n",
            "             Check In       0.00      0.00      0.00        42\n",
            "             Checkout       0.00      0.00      0.00        42\n",
            "       Communications       0.00      0.00      0.00        71\n",
            "      Digital Support       0.00      0.00      0.00        29\n",
            "           Disability       0.00      0.00      0.00         8\n",
            "                  ETC       0.00      0.00      0.00        18\n",
            "               IRROPS       0.21      0.88      0.34       339\n",
            "         Mileage Plus       0.00      0.00      0.00       140\n",
            "         Other Topics       0.00      0.00      0.00        24\n",
            "          Post Flight       0.00      0.00      0.00       111\n",
            "Products and Services       0.00      0.00      0.00        74\n",
            "      Schedule Change       0.00      0.00      0.00        13\n",
            "              Seating       0.00      0.00      0.00       166\n",
            "     Traveler Updates       0.00      0.00      0.00        21\n",
            "  Unaccompanied Minor       0.00      0.00      0.00         3\n",
            "              Upgrade       0.00      0.00      0.00        58\n",
            "     Voluntary Cancel       0.00      0.00      0.00        33\n",
            "     Voluntary Change       0.12      0.06      0.08       264\n",
            "\n",
            "             accuracy                           0.20      1565\n",
            "            macro avg       0.02      0.05      0.02      1565\n",
            "         weighted avg       0.07      0.20      0.09      1565\n",
            "\n"
          ]
        },
        {
          "output_type": "stream",
          "name": "stderr",
          "text": [
            "/usr/local/lib/python3.10/dist-packages/sklearn/metrics/_classification.py:1531: UndefinedMetricWarning: Precision is ill-defined and being set to 0.0 in labels with no predicted samples. Use `zero_division` parameter to control this behavior.\n",
            "  _warn_prf(average, modifier, f\"{metric.capitalize()} is\", len(result))\n",
            "/usr/local/lib/python3.10/dist-packages/sklearn/metrics/_classification.py:1531: UndefinedMetricWarning: Precision is ill-defined and being set to 0.0 in labels with no predicted samples. Use `zero_division` parameter to control this behavior.\n",
            "  _warn_prf(average, modifier, f\"{metric.capitalize()} is\", len(result))\n",
            "/usr/local/lib/python3.10/dist-packages/sklearn/metrics/_classification.py:1531: UndefinedMetricWarning: Precision is ill-defined and being set to 0.0 in labels with no predicted samples. Use `zero_division` parameter to control this behavior.\n",
            "  _warn_prf(average, modifier, f\"{metric.capitalize()} is\", len(result))\n"
          ]
        }
      ]
    },
    {
      "cell_type": "markdown",
      "source": [
        "Load and Preprocess the Data"
      ],
      "metadata": {
        "id": "61-lWX64aFPw"
      }
    },
    {
      "cell_type": "code",
      "source": [
        "import pandas as pd\n",
        "\n",
        "# Load the tables (replace with actual file paths or data sources)\n",
        "calls_df = pd.read_csv('calls.csv')\n",
        "customers_df = pd.read_csv('customer.csv')\n",
        "reasons_df = pd.read_csv('reason.csv')\n",
        "sentiment_df = pd.read_csv('sentiment.csv')\n",
        "\n",
        "# Convert datetime columns to pandas datetime format\n",
        "calls_df['call_start_datetime'] = pd.to_datetime(calls_df['call_start_datetime'])\n",
        "calls_df['call_end_datetime'] = pd.to_datetime(calls_df['call_end_datetime'])\n",
        "\n",
        "# Merge calls with reasons\n",
        "merged_df = pd.merge(calls_df, reasons_df, on='call_id')\n"
      ],
      "metadata": {
        "id": "hAMUHE_eUu5k"
      },
      "execution_count": 5,
      "outputs": []
    },
    {
      "cell_type": "markdown",
      "source": [
        "Calculate Average Handle Time (AHT)"
      ],
      "metadata": {
        "id": "Z0JamjmvaG7O"
      }
    },
    {
      "cell_type": "code",
      "source": [
        "# Calculate AHT in minutes\n",
        "merged_df['AHT'] = (merged_df['call_end_datetime'] - merged_df['call_start_datetime']).dt.total_seconds() / 60\n",
        "\n",
        "# Check the data\n",
        "print(merged_df[['call_id', 'AHT', 'primary_call_reason']].head())\n"
      ],
      "metadata": {
        "colab": {
          "base_uri": "https://localhost:8080/"
        },
        "id": "MuIVzPjtVFI-",
        "outputId": "ae1b1450-7a26-4c85-9e98-668ba193f2c1"
      },
      "execution_count": 6,
      "outputs": [
        {
          "output_type": "stream",
          "name": "stdout",
          "text": [
            "      call_id   AHT primary_call_reason\n",
            "0  4667960400  38.0   Voluntary  Cancel\n",
            "1  1122072124  15.0             Booking\n",
            "2  6834291559  27.0              IRROPS\n",
            "3  2266439882  12.0             Upgrade\n",
            "4  1211603231  19.0             Seating\n"
          ]
        }
      ]
    },
    {
      "cell_type": "markdown",
      "source": [
        "Group by Call Reason to Find Most and Least Frequent Reasons"
      ],
      "metadata": {
        "id": "E_lMHXkRaKuI"
      }
    },
    {
      "cell_type": "code",
      "source": [
        "# Group by call reason to calculate the number of occurrences and average AHT\n",
        "call_reason_stats = merged_df.groupby('primary_call_reason').agg(\n",
        "    call_count=('call_id', 'size'),\n",
        "    avg_AHT=('AHT', 'mean')\n",
        ").reset_index()\n",
        "\n",
        "# Find the most and least frequent call reasons\n",
        "most_frequent_reason = call_reason_stats.loc[call_reason_stats['call_count'].idxmax()]\n",
        "least_frequent_reason = call_reason_stats.loc[call_reason_stats['call_count'].idxmin()]\n",
        "\n",
        "# Display results\n",
        "print(f\"Most Frequent Reason:\\n{most_frequent_reason}\")\n",
        "print(f\"Least Frequent Reason:\\n{least_frequent_reason}\")\n"
      ],
      "metadata": {
        "colab": {
          "base_uri": "https://localhost:8080/"
        },
        "id": "31DJtp_pVJGp",
        "outputId": "925cd70c-c723-4c3f-e85d-8ba55e77eb39"
      },
      "execution_count": 7,
      "outputs": [
        {
          "output_type": "stream",
          "name": "stdout",
          "text": [
            "Most Frequent Reason:\n",
            "primary_call_reason       IRROPS\n",
            "call_count                 13057\n",
            "avg_AHT                19.094432\n",
            "Name: 20, dtype: object\n",
            "Least Frequent Reason:\n",
            "primary_call_reason    Unaccompanied Minor  \n",
            "call_count                                 1\n",
            "avg_AHT                                 15.0\n",
            "Name: 44, dtype: object\n"
          ]
        }
      ]
    },
    {
      "cell_type": "markdown",
      "source": [
        "Calculate Percentage Difference in AHT"
      ],
      "metadata": {
        "id": "BHunDKoOaQTl"
      }
    },
    {
      "cell_type": "code",
      "source": [
        "# Calculate percentage difference in AHT\n",
        "percentage_diff = abs(most_frequent_reason['avg_AHT'] - least_frequent_reason['avg_AHT']) / most_frequent_reason['avg_AHT'] * 100\n",
        "print(f\"Percentage difference in AHT: {percentage_diff:.2f}%\")\n"
      ],
      "metadata": {
        "colab": {
          "base_uri": "https://localhost:8080/"
        },
        "id": "KJpR6ykAVNl3",
        "outputId": "7d2065cd-6a7a-4e60-cecf-d56c781e6a6f"
      },
      "execution_count": 8,
      "outputs": [
        {
          "output_type": "stream",
          "name": "stdout",
          "text": [
            "Percentage difference in AHT: 21.44%\n"
          ]
        }
      ]
    },
    {
      "cell_type": "markdown",
      "source": [
        " Visualize AHT by Call Reason"
      ],
      "metadata": {
        "id": "w7LFm_fkaV-m"
      }
    },
    {
      "cell_type": "code",
      "source": [
        "import pandas as pd\n",
        "import matplotlib.pyplot as plt\n",
        "import seaborn as sns\n",
        "\n",
        "# Read the data (adjust the file path as necessary)\n",
        "df = pd.read_csv('reason.csv')\n",
        "\n",
        "# Strip leading/trailing whitespace and standardize 'primary_call_reason'\n",
        "df['primary_call_reason'] = df['primary_call_reason'].str.strip()\n",
        "df['primary_call_reason'] = df['primary_call_reason'].replace({\n",
        "    'Voluntary   Change': 'Voluntary Change',\n",
        "    'Voluntary  Change': 'Voluntary Change',\n",
        "    'Check-In': 'Check In',\n",
        "    'Other  Topics': 'Other Topics',\n",
        "    'Traveler   Updates': 'Traveler Updates',\n",
        "    'Traveler  Updates': 'Traveler Updates',\n",
        "    'Mileage   Plus': 'Mileage Plus',\n",
        "    'Mileage  Plus': 'Mileage Plus',\n",
        "    'Digital  Support': 'Digital Support',\n",
        "    'Digital   Support': 'Digital Support',\n",
        "    'Voluntary  Cancel': 'Voluntary Cancel',\n",
        "    'Products & Services': 'Products and Services',\n",
        "\n",
        "    # Add other similar corrections if needed\n",
        "})\n",
        "\n",
        "# Display the unique values after standardization (for verification)\n",
        "print(\"Unique values after standardization:\")\n",
        "print(df['primary_call_reason'].unique())\n",
        "\n",
        "# Assuming 'merged_df' contains AHT and primary_call_reason after merging with other tables\n",
        "# For demonstration purposes, creating a sample 'merged_df' with AHT and standardized primary_call_reason\n",
        "\n",
        "# Sample data (you should replace this with your actual merged dataframe that contains AHT values)\n",
        "merged_df = pd.DataFrame({\n",
        "    'call_id': [1, 2, 3, 4, 5],\n",
        "    'primary_call_reason': ['Voluntary Change', 'Check In', 'Other Topics', 'Traveler Updates', 'Mileage Plus'],\n",
        "    'AHT': [15, 20, 12, 25, 10]  # Average Handle Time in minutes\n",
        "})\n",
        "\n",
        "# Group by 'primary_call_reason' to calculate the average AHT\n",
        "call_reason_stats = merged_df.groupby('primary_call_reason').agg(\n",
        "    avg_AHT=('AHT', 'mean')\n",
        ").reset_index()\n",
        "\n",
        "# Plot average AHT by call reason\n",
        "plt.figure(figsize=(10, 6))\n",
        "sns.barplot(x='primary_call_reason', y='avg_AHT', data=call_reason_stats)\n",
        "plt.title('Average Handle Time by Call Reason')\n",
        "plt.xlabel('Call Reason')\n",
        "plt.ylabel('Average Handle Time (minutes)')\n",
        "plt.xticks(rotation=45)\n",
        "plt.show()\n"
      ],
      "metadata": {
        "colab": {
          "base_uri": "https://localhost:8080/",
          "height": 752
        },
        "id": "9COvxd1uVRTT",
        "outputId": "b428cf76-0dfe-4877-a599-862fa6ba3b0a"
      },
      "execution_count": 10,
      "outputs": [
        {
          "output_type": "stream",
          "name": "stdout",
          "text": [
            "Unique values after standardization:\n",
            "['Voluntary Cancel' 'Booking' 'IRROPS' 'Upgrade' 'Seating' 'Mileage Plus'\n",
            " 'Checkout' 'Voluntary Change' 'Post Flight' 'Check In' 'Other Topics'\n",
            " 'Communications' 'Schedule Change' 'Products and Services'\n",
            " 'Digital Support' 'Disability' 'Unaccompanied Minor' 'Baggage'\n",
            " 'Traveler Updates' 'ETC' 'Post-Flight']\n"
          ]
        },
        {
          "output_type": "display_data",
          "data": {
            "text/plain": [
              "<Figure size 1000x600 with 1 Axes>"
            ],
            "image/png": "[encoded data removed]"
          },
          "metadata": {}
        }
      ]
    }
  ]
}